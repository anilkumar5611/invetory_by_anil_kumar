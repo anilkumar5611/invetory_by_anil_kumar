{
 "cells": [
  {
   "cell_type": "code",
   "execution_count": 1,
   "id": "a94d25e7",
   "metadata": {},
   "outputs": [
    {
     "data": {
      "text/html": [
       "<div>\n",
       "<style scoped>\n",
       "    .dataframe tbody tr th:only-of-type {\n",
       "        vertical-align: middle;\n",
       "    }\n",
       "\n",
       "    .dataframe tbody tr th {\n",
       "        vertical-align: top;\n",
       "    }\n",
       "\n",
       "    .dataframe thead th {\n",
       "        text-align: right;\n",
       "    }\n",
       "</style>\n",
       "<table border=\"1\" class=\"dataframe\">\n",
       "  <thead>\n",
       "    <tr style=\"text-align: right;\">\n",
       "      <th></th>\n",
       "      <th>Item Number</th>\n",
       "      <th>Inventory Receive</th>\n",
       "      <th>Total Item Qty</th>\n",
       "    </tr>\n",
       "  </thead>\n",
       "  <tbody>\n",
       "    <tr>\n",
       "      <th>0</th>\n",
       "      <td>064-13-0002</td>\n",
       "      <td>7/7/2023</td>\n",
       "      <td>700</td>\n",
       "    </tr>\n",
       "    <tr>\n",
       "      <th>1</th>\n",
       "      <td>064-13-0338</td>\n",
       "      <td>7/7/2023</td>\n",
       "      <td>1700</td>\n",
       "    </tr>\n",
       "    <tr>\n",
       "      <th>2</th>\n",
       "      <td>064-13-0340</td>\n",
       "      <td>7/7/2023</td>\n",
       "      <td>1000</td>\n",
       "    </tr>\n",
       "    <tr>\n",
       "      <th>3</th>\n",
       "      <td>064-13-0353</td>\n",
       "      <td>7/7/2023</td>\n",
       "      <td>1900</td>\n",
       "    </tr>\n",
       "    <tr>\n",
       "      <th>4</th>\n",
       "      <td>064-13-0416</td>\n",
       "      <td>7/7/2023</td>\n",
       "      <td>1000</td>\n",
       "    </tr>\n",
       "  </tbody>\n",
       "</table>\n",
       "</div>"
      ],
      "text/plain": [
       "   Item Number Inventory Receive  Total Item Qty\n",
       "0  064-13-0002          7/7/2023             700\n",
       "1  064-13-0338          7/7/2023            1700\n",
       "2  064-13-0340          7/7/2023            1000\n",
       "3  064-13-0353          7/7/2023            1900\n",
       "4  064-13-0416          7/7/2023            1000"
      ]
     },
     "execution_count": 1,
     "metadata": {},
     "output_type": "execute_result"
    }
   ],
   "source": [
    "import pandas as pd\n",
    "import matplotlib.pyplot as plt\n",
    "import numpy as np\n",
    "# Read the CSV file into a pandas DataFrame\n",
    "\n",
    "df = pd.read_csv(\"New Inventory.csv\",)\n",
    "df.head()"
   ]
  },
  {
   "cell_type": "code",
   "execution_count": 2,
   "id": "7745c494",
   "metadata": {},
   "outputs": [
    {
     "name": "stdout",
     "output_type": "stream",
     "text": [
      "<class 'pandas.core.frame.DataFrame'>\n",
      "RangeIndex: 1039 entries, 0 to 1038\n",
      "Data columns (total 3 columns):\n",
      " #   Column             Non-Null Count  Dtype \n",
      "---  ------             --------------  ----- \n",
      " 0   Item Number        1039 non-null   object\n",
      " 1   Inventory Receive  1039 non-null   object\n",
      " 2   Total Item Qty     1039 non-null   int64 \n",
      "dtypes: int64(1), object(2)\n",
      "memory usage: 24.5+ KB\n",
      "None\n"
     ]
    }
   ],
   "source": [
    "print(df.info())"
   ]
  },
  {
   "cell_type": "code",
   "execution_count": 3,
   "id": "d59d048e",
   "metadata": {},
   "outputs": [],
   "source": [
    "df['Inventory Receive'] = pd.to_datetime(df['Inventory Receive'])"
   ]
  },
  {
   "cell_type": "code",
   "execution_count": 4,
   "id": "321f4871",
   "metadata": {},
   "outputs": [
    {
     "data": {
      "text/plain": [
       "pandas._libs.tslibs.timestamps.Timestamp"
      ]
     },
     "execution_count": 4,
     "metadata": {},
     "output_type": "execute_result"
    }
   ],
   "source": [
    "type(df['Inventory Receive'][0])"
   ]
  },
  {
   "cell_type": "code",
   "execution_count": 5,
   "id": "e1745fc8",
   "metadata": {},
   "outputs": [],
   "source": [
    "df['Item Number']=df['Item Number'].str.replace('-','').astype(int)"
   ]
  },
  {
   "cell_type": "code",
   "execution_count": 6,
   "id": "7c65fdcc",
   "metadata": {},
   "outputs": [
    {
     "data": {
      "text/html": [
       "<div>\n",
       "<style scoped>\n",
       "    .dataframe tbody tr th:only-of-type {\n",
       "        vertical-align: middle;\n",
       "    }\n",
       "\n",
       "    .dataframe tbody tr th {\n",
       "        vertical-align: top;\n",
       "    }\n",
       "\n",
       "    .dataframe thead tr th {\n",
       "        text-align: left;\n",
       "    }\n",
       "\n",
       "    .dataframe thead tr:last-of-type th {\n",
       "        text-align: right;\n",
       "    }\n",
       "</style>\n",
       "<table border=\"1\" class=\"dataframe\">\n",
       "  <thead>\n",
       "    <tr>\n",
       "      <th></th>\n",
       "      <th colspan=\"21\" halign=\"left\">Total Item Qty</th>\n",
       "    </tr>\n",
       "    <tr>\n",
       "      <th>Inventory Receive</th>\n",
       "      <th>2023-07-07</th>\n",
       "      <th>2023-07-09</th>\n",
       "      <th>2023-07-10</th>\n",
       "      <th>2023-07-14</th>\n",
       "      <th>2023-07-21</th>\n",
       "      <th>2023-07-28</th>\n",
       "      <th>2023-08-04</th>\n",
       "      <th>2023-08-16</th>\n",
       "      <th>2023-08-18</th>\n",
       "      <th>2023-08-22</th>\n",
       "      <th>...</th>\n",
       "      <th>2023-09-22</th>\n",
       "      <th>2023-09-24</th>\n",
       "      <th>2023-09-29</th>\n",
       "      <th>2023-10-08</th>\n",
       "      <th>2023-10-13</th>\n",
       "      <th>2023-10-22</th>\n",
       "      <th>2023-11-26</th>\n",
       "      <th>2023-12-01</th>\n",
       "      <th>2023-12-08</th>\n",
       "      <th>2023-12-15</th>\n",
       "    </tr>\n",
       "    <tr>\n",
       "      <th>Item Number</th>\n",
       "      <th></th>\n",
       "      <th></th>\n",
       "      <th></th>\n",
       "      <th></th>\n",
       "      <th></th>\n",
       "      <th></th>\n",
       "      <th></th>\n",
       "      <th></th>\n",
       "      <th></th>\n",
       "      <th></th>\n",
       "      <th></th>\n",
       "      <th></th>\n",
       "      <th></th>\n",
       "      <th></th>\n",
       "      <th></th>\n",
       "      <th></th>\n",
       "      <th></th>\n",
       "      <th></th>\n",
       "      <th></th>\n",
       "      <th></th>\n",
       "      <th></th>\n",
       "    </tr>\n",
       "  </thead>\n",
       "  <tbody>\n",
       "    <tr>\n",
       "      <th>64010003</th>\n",
       "      <td>0</td>\n",
       "      <td>0</td>\n",
       "      <td>0</td>\n",
       "      <td>0</td>\n",
       "      <td>0</td>\n",
       "      <td>0</td>\n",
       "      <td>0</td>\n",
       "      <td>0</td>\n",
       "      <td>0</td>\n",
       "      <td>0</td>\n",
       "      <td>...</td>\n",
       "      <td>0</td>\n",
       "      <td>0</td>\n",
       "      <td>5488.0</td>\n",
       "      <td>0</td>\n",
       "      <td>1864.0</td>\n",
       "      <td>0</td>\n",
       "      <td>0</td>\n",
       "      <td>0</td>\n",
       "      <td>0</td>\n",
       "      <td>0</td>\n",
       "    </tr>\n",
       "    <tr>\n",
       "      <th>64010005</th>\n",
       "      <td>0</td>\n",
       "      <td>0</td>\n",
       "      <td>0</td>\n",
       "      <td>0</td>\n",
       "      <td>0</td>\n",
       "      <td>0</td>\n",
       "      <td>0</td>\n",
       "      <td>0</td>\n",
       "      <td>0</td>\n",
       "      <td>0</td>\n",
       "      <td>...</td>\n",
       "      <td>0</td>\n",
       "      <td>0</td>\n",
       "      <td>7380.0</td>\n",
       "      <td>0</td>\n",
       "      <td>2520.0</td>\n",
       "      <td>0</td>\n",
       "      <td>0</td>\n",
       "      <td>0</td>\n",
       "      <td>0</td>\n",
       "      <td>0</td>\n",
       "    </tr>\n",
       "    <tr>\n",
       "      <th>64010012</th>\n",
       "      <td>0</td>\n",
       "      <td>0</td>\n",
       "      <td>0</td>\n",
       "      <td>0</td>\n",
       "      <td>0</td>\n",
       "      <td>0</td>\n",
       "      <td>0</td>\n",
       "      <td>0</td>\n",
       "      <td>0</td>\n",
       "      <td>0</td>\n",
       "      <td>...</td>\n",
       "      <td>0</td>\n",
       "      <td>0</td>\n",
       "      <td>6840.0</td>\n",
       "      <td>0</td>\n",
       "      <td>3244.0</td>\n",
       "      <td>0</td>\n",
       "      <td>0</td>\n",
       "      <td>0</td>\n",
       "      <td>0</td>\n",
       "      <td>0</td>\n",
       "    </tr>\n",
       "    <tr>\n",
       "      <th>64010013</th>\n",
       "      <td>0</td>\n",
       "      <td>0</td>\n",
       "      <td>0</td>\n",
       "      <td>0</td>\n",
       "      <td>0</td>\n",
       "      <td>0</td>\n",
       "      <td>0</td>\n",
       "      <td>0</td>\n",
       "      <td>0</td>\n",
       "      <td>0</td>\n",
       "      <td>...</td>\n",
       "      <td>0</td>\n",
       "      <td>0</td>\n",
       "      <td>6300.0</td>\n",
       "      <td>0</td>\n",
       "      <td>1748.0</td>\n",
       "      <td>0</td>\n",
       "      <td>0</td>\n",
       "      <td>0</td>\n",
       "      <td>0</td>\n",
       "      <td>0</td>\n",
       "    </tr>\n",
       "    <tr>\n",
       "      <th>64010016</th>\n",
       "      <td>0</td>\n",
       "      <td>0</td>\n",
       "      <td>0</td>\n",
       "      <td>0</td>\n",
       "      <td>0</td>\n",
       "      <td>0</td>\n",
       "      <td>0</td>\n",
       "      <td>0</td>\n",
       "      <td>0</td>\n",
       "      <td>0</td>\n",
       "      <td>...</td>\n",
       "      <td>0</td>\n",
       "      <td>0</td>\n",
       "      <td>6028.0</td>\n",
       "      <td>0</td>\n",
       "      <td>1608.0</td>\n",
       "      <td>0</td>\n",
       "      <td>0</td>\n",
       "      <td>0</td>\n",
       "      <td>0</td>\n",
       "      <td>0</td>\n",
       "    </tr>\n",
       "  </tbody>\n",
       "</table>\n",
       "<p>5 rows × 23 columns</p>\n",
       "</div>"
      ],
      "text/plain": [
       "                  Total Item Qty                                              \\\n",
       "Inventory Receive     2023-07-07 2023-07-09 2023-07-10 2023-07-14 2023-07-21   \n",
       "Item Number                                                                    \n",
       "64010003                       0          0          0          0          0   \n",
       "64010005                       0          0          0          0          0   \n",
       "64010012                       0          0          0          0          0   \n",
       "64010013                       0          0          0          0          0   \n",
       "64010016                       0          0          0          0          0   \n",
       "\n",
       "                                                                          ...  \\\n",
       "Inventory Receive 2023-07-28 2023-08-04 2023-08-16 2023-08-18 2023-08-22  ...   \n",
       "Item Number                                                               ...   \n",
       "64010003                   0          0          0          0          0  ...   \n",
       "64010005                   0          0          0          0          0  ...   \n",
       "64010012                   0          0          0          0          0  ...   \n",
       "64010013                   0          0          0          0          0  ...   \n",
       "64010016                   0          0          0          0          0  ...   \n",
       "\n",
       "                                                                          \\\n",
       "Inventory Receive 2023-09-22 2023-09-24 2023-09-29 2023-10-08 2023-10-13   \n",
       "Item Number                                                                \n",
       "64010003                   0          0     5488.0          0     1864.0   \n",
       "64010005                   0          0     7380.0          0     2520.0   \n",
       "64010012                   0          0     6840.0          0     3244.0   \n",
       "64010013                   0          0     6300.0          0     1748.0   \n",
       "64010016                   0          0     6028.0          0     1608.0   \n",
       "\n",
       "                                                                          \n",
       "Inventory Receive 2023-10-22 2023-11-26 2023-12-01 2023-12-08 2023-12-15  \n",
       "Item Number                                                               \n",
       "64010003                   0          0          0          0          0  \n",
       "64010005                   0          0          0          0          0  \n",
       "64010012                   0          0          0          0          0  \n",
       "64010013                   0          0          0          0          0  \n",
       "64010016                   0          0          0          0          0  \n",
       "\n",
       "[5 rows x 23 columns]"
      ]
     },
     "execution_count": 6,
     "metadata": {},
     "output_type": "execute_result"
    }
   ],
   "source": [
    "df_cleaned = df.pivot_table(index='Item Number', columns='Inventory Receive',dropna=True,fill_value='0')\n",
    "df_cleaned.head()"
   ]
  },
  {
   "cell_type": "code",
   "execution_count": 7,
   "id": "24cceaf6",
   "metadata": {},
   "outputs": [],
   "source": [
    "# Assuming 'df' is your DataFrame that you want to save\n",
    "\n",
    "# Save the entire DataFrame to a CSV file\n",
    "file_path = 'cleaned_new_inventory.csv'  # Replace 'entire_dataframe.csv' with your desired file path and name\n",
    "df_cleaned.to_csv(file_path, index=True)  # Set index=False to exclude the DataFrame index from the CSV file\n",
    "\n",
    "\n"
   ]
  },
  {
   "cell_type": "code",
   "execution_count": 8,
   "id": "c62cf64c",
   "metadata": {},
   "outputs": [
    {
     "data": {
      "text/plain": [
       "Inventory Receive\n",
       "November      24848\n",
       "December      63172\n",
       "October      303826\n",
       "September    670252\n",
       "July         698592\n",
       "August       726094\n",
       "Name: Total Item Qty, dtype: int64"
      ]
     },
     "execution_count": 8,
     "metadata": {},
     "output_type": "execute_result"
    }
   ],
   "source": [
    "df_cleaned3=df.groupby(df['Inventory Receive'].dt.strftime('%B'))['Total Item Qty'].sum().sort_values()\n",
    "df_cleaned3"
   ]
  },
  {
   "cell_type": "code",
   "execution_count": 9,
   "id": "a535635e",
   "metadata": {},
   "outputs": [
    {
     "data": {
      "text/plain": [
       "<Axes: xlabel='Inventory Receive'>"
      ]
     },
     "execution_count": 9,
     "metadata": {},
     "output_type": "execute_result"
    },
    {
     "data": {
      "image/png": "[encoded data removed]",
      "text/plain": [
       "<Figure size 640x480 with 1 Axes>"
      ]
     },
     "metadata": {},
     "output_type": "display_data"
    }
   ],
   "source": [
    "df_cleaned3.plot(x=\"Inventory Receive\", y=\"Total Item Qty\", kind=\"bar\")"
   ]
  }
 ],
 "metadata": {
  "kernelspec": {
   "display_name": "Python 3 (ipykernel)",
   "language": "python",
   "name": "python3"
  },
  "language_info": {
   "codemirror_mode": {
    "name": "ipython",
    "version": 3
   },
   "file_extension": ".py",
   "mimetype": "text/x-python",
   "name": "python",
   "nbconvert_exporter": "python",
   "pygments_lexer": "ipython3",
   "version": "3.11.2"
  }
 },
 "nbformat": 4,
 "nbformat_minor": 5
}
